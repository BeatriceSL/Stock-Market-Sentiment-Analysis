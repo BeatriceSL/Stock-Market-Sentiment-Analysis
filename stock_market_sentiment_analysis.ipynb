{
  "nbformat": 4,
  "nbformat_minor": 0,
  "metadata": {
    "colab": {
      "provenance": [],
      "authorship_tag": "ABX9TyNBnivGgmmNC9p4sr4EUL5v",
      "include_colab_link": true
    },
    "kernelspec": {
      "name": "python3",
      "display_name": "Python 3"
    },
    "language_info": {
      "name": "python"
    }
  },
  "cells": [
    {
      "cell_type": "markdown",
      "metadata": {
        "id": "view-in-github",
        "colab_type": "text"
      },
      "source": [
        "<a href=\"https://colab.research.google.com/github/BeatriceSL/Stock-Market-Sentiment-Analysis/blob/main/stock_market_sentiment_analysis.ipynb\" target=\"_parent\"><img src=\"https://colab.research.google.com/assets/colab-badge.svg\" alt=\"Open In Colab\"/></a>"
      ]
    },
    {
      "cell_type": "markdown",
      "source": [
        "# *** Stock Market Sentiment Analysis in Python ***\n",
        "In this project, we will explore stock market sentiment analysis in Python from several public tweet data.\n"
      ],
      "metadata": {
        "id": "sZzq5g0tND4t"
      }
    },
    {
      "cell_type": "code",
      "source": [
        "# 1. Install dependencies.\n",
        "!pip install transformers\n",
        "# 2. Using pipeline class to predict from models available in the Colab Hub for simplicity.\n",
        "from transformers import pipeline\n",
        "sentiment_pipeline = pipeline(\"sentiment-analysis\")\n",
        "data = [\"Excited to see $AAPL breaking new highs! 🚀 Bullish on Apple's latest product lineup.\",\n",
        "\"Impressed by the strong quarterly earnings report from $GOOGL. Looks like Google is on track for another great year!\",\n",
        "\"Just bought some shares of $TSLA. Feeling optimistic about Tesla's future in the electric vehicle market.\",\"Disappointed with the poor performance of $AMZN stock today. Was expecting better results after the recent announcements.\",\n",
        "\"Concerned about the impact of rising inflation on the stock market. $DOW and other indices showing signs of weakness.\",\n",
        "\"Skeptical about the sustainability of $FB's growth. Worried about regulatory challenges and user privacy issues.\"]\n",
        "sentiment_pipeline(data)"
      ],
      "metadata": {
        "colab": {
          "base_uri": "https://localhost:8080/"
        },
        "id": "2JK29EnTQO0n",
        "outputId": "9fcf05ad-8fa2-408b-d5a4-3cefa664b35b"
      },
      "execution_count": 27,
      "outputs": [
        {
          "output_type": "stream",
          "name": "stdout",
          "text": [
            "Requirement already satisfied: transformers in /usr/local/lib/python3.10/dist-packages (4.40.1)\n",
            "Requirement already satisfied: filelock in /usr/local/lib/python3.10/dist-packages (from transformers) (3.14.0)\n",
            "Requirement already satisfied: huggingface-hub<1.0,>=0.19.3 in /usr/local/lib/python3.10/dist-packages (from transformers) (0.20.3)\n",
            "Requirement already satisfied: numpy>=1.17 in /usr/local/lib/python3.10/dist-packages (from transformers) (1.25.2)\n",
            "Requirement already satisfied: packaging>=20.0 in /usr/local/lib/python3.10/dist-packages (from transformers) (24.0)\n",
            "Requirement already satisfied: pyyaml>=5.1 in /usr/local/lib/python3.10/dist-packages (from transformers) (6.0.1)\n",
            "Requirement already satisfied: regex!=2019.12.17 in /usr/local/lib/python3.10/dist-packages (from transformers) (2023.12.25)\n",
            "Requirement already satisfied: requests in /usr/local/lib/python3.10/dist-packages (from transformers) (2.31.0)\n",
            "Requirement already satisfied: tokenizers<0.20,>=0.19 in /usr/local/lib/python3.10/dist-packages (from transformers) (0.19.1)\n",
            "Requirement already satisfied: safetensors>=0.4.1 in /usr/local/lib/python3.10/dist-packages (from transformers) (0.4.3)\n",
            "Requirement already satisfied: tqdm>=4.27 in /usr/local/lib/python3.10/dist-packages (from transformers) (4.66.4)\n",
            "Requirement already satisfied: fsspec>=2023.5.0 in /usr/local/lib/python3.10/dist-packages (from huggingface-hub<1.0,>=0.19.3->transformers) (2023.6.0)\n",
            "Requirement already satisfied: typing-extensions>=3.7.4.3 in /usr/local/lib/python3.10/dist-packages (from huggingface-hub<1.0,>=0.19.3->transformers) (4.11.0)\n",
            "Requirement already satisfied: charset-normalizer<4,>=2 in /usr/local/lib/python3.10/dist-packages (from requests->transformers) (3.3.2)\n",
            "Requirement already satisfied: idna<4,>=2.5 in /usr/local/lib/python3.10/dist-packages (from requests->transformers) (3.7)\n",
            "Requirement already satisfied: urllib3<3,>=1.21.1 in /usr/local/lib/python3.10/dist-packages (from requests->transformers) (2.0.7)\n",
            "Requirement already satisfied: certifi>=2017.4.17 in /usr/local/lib/python3.10/dist-packages (from requests->transformers) (2024.2.2)\n"
          ]
        },
        {
          "output_type": "stream",
          "name": "stderr",
          "text": [
            "No model was supplied, defaulted to distilbert/distilbert-base-uncased-finetuned-sst-2-english and revision af0f99b (https://huggingface.co/distilbert/distilbert-base-uncased-finetuned-sst-2-english).\n",
            "Using a pipeline without specifying a model name and revision in production is not recommended.\n"
          ]
        },
        {
          "output_type": "execute_result",
          "data": {
            "text/plain": [
              "[{'label': 'POSITIVE', 'score': 0.9053741097450256},\n",
              " {'label': 'POSITIVE', 'score': 0.9994863271713257},\n",
              " {'label': 'POSITIVE', 'score': 0.9987534284591675},\n",
              " {'label': 'NEGATIVE', 'score': 0.9997169375419617},\n",
              " {'label': 'NEGATIVE', 'score': 0.9967625141143799},\n",
              " {'label': 'NEGATIVE', 'score': 0.9825782179832458}]"
            ]
          },
          "metadata": {},
          "execution_count": 27
        }
      ]
    },
    {
      "cell_type": "code",
      "source": [
        "!pip install emoji==0.6.0"
      ],
      "metadata": {
        "colab": {
          "base_uri": "https://localhost:8080/"
        },
        "id": "swMG1vWBU6qv",
        "outputId": "2f58fa83-6172-4630-8e69-953c81a5e0a2"
      },
      "execution_count": 28,
      "outputs": [
        {
          "output_type": "stream",
          "name": "stdout",
          "text": [
            "Requirement already satisfied: emoji==0.6.0 in /usr/local/lib/python3.10/dist-packages (0.6.0)\n"
          ]
        }
      ]
    },
    {
      "cell_type": "code",
      "source": [
        "import emoji\n",
        "\n",
        "print(emoji.emojize('This is a smiley face: :)'))"
      ],
      "metadata": {
        "colab": {
          "base_uri": "https://localhost:8080/"
        },
        "id": "2FyWXQfEU6cI",
        "outputId": "7578ebd8-8320-461c-ffe4-b3d6ea7b6a1b"
      },
      "execution_count": 20,
      "outputs": [
        {
          "output_type": "stream",
          "name": "stdout",
          "text": [
            "This is a smiley face: :)\n"
          ]
        }
      ]
    },
    {
      "cell_type": "code",
      "source": [
        "#Use a specific model for sentiment analysis\n",
        "!pip install emoji==0.6.\n",
        "specific_model = pipeline(model=\"finiteautomata/bertweet-base-sentiment-analysis\")\n",
        "specific_model(data)"
      ],
      "metadata": {
        "colab": {
          "base_uri": "https://localhost:8080/"
        },
        "id": "CBkLXP2JS-wJ",
        "outputId": "e9d221fc-84ad-4621-dc94-ed525ad42205"
      },
      "execution_count": 21,
      "outputs": [
        {
          "output_type": "stream",
          "name": "stdout",
          "text": [
            "Requirement already satisfied: emoji==0.6. in /usr/local/lib/python3.10/dist-packages (0.6.0)\n"
          ]
        },
        {
          "output_type": "execute_result",
          "data": {
            "text/plain": [
              "[{'label': 'POS', 'score': 0.9931127429008484},\n",
              " {'label': 'POS', 'score': 0.9927075505256653},\n",
              " {'label': 'POS', 'score': 0.9727004766464233},\n",
              " {'label': 'NEG', 'score': 0.9782177209854126},\n",
              " {'label': 'NEG', 'score': 0.9395327568054199},\n",
              " {'label': 'NEG', 'score': 0.8991215229034424}]"
            ]
          },
          "metadata": {},
          "execution_count": 21
        }
      ]
    },
    {
      "cell_type": "code",
      "source": [
        "# Install Git if it's not already installed.\n",
        "!apt-get update\n",
        "!apt-get install git -y\n"
      ],
      "metadata": {
        "colab": {
          "base_uri": "https://localhost:8080/"
        },
        "id": "CaDgg-_-WnGY",
        "outputId": "249d2c7c-d6aa-4e92-d0da-c4b6db9d8fd9"
      },
      "execution_count": 23,
      "outputs": [
        {
          "output_type": "stream",
          "name": "stdout",
          "text": [
            "Hit:1 http://security.ubuntu.com/ubuntu jammy-security InRelease\n",
            "Hit:2 https://cloud.r-project.org/bin/linux/ubuntu jammy-cran40/ InRelease\n",
            "Hit:3 https://developer.download.nvidia.com/compute/cuda/repos/ubuntu2204/x86_64  InRelease\n",
            "Hit:4 http://archive.ubuntu.com/ubuntu jammy InRelease\n",
            "Hit:5 http://archive.ubuntu.com/ubuntu jammy-updates InRelease\n",
            "Hit:6 http://archive.ubuntu.com/ubuntu jammy-backports InRelease\n",
            "Hit:7 https://ppa.launchpadcontent.net/c2d4u.team/c2d4u4.0+/ubuntu jammy InRelease\n",
            "Hit:8 https://ppa.launchpadcontent.net/deadsnakes/ppa/ubuntu jammy InRelease\n",
            "Hit:9 https://ppa.launchpadcontent.net/graphics-drivers/ppa/ubuntu jammy InRelease\n",
            "Hit:10 https://ppa.launchpadcontent.net/ubuntugis/ppa/ubuntu jammy InRelease\n",
            "Reading package lists... Done\n",
            "Reading package lists... Done\n",
            "Building dependency tree... Done\n",
            "Reading state information... Done\n",
            "git is already the newest version (1:2.34.1-1ubuntu1.10).\n",
            "0 upgraded, 0 newly installed, 0 to remove and 46 not upgraded.\n"
          ]
        }
      ]
    },
    {
      "cell_type": "code",
      "source": [
        "# Clone your GitHub repository.\n",
        "!git clone https://github.com/BeatriceSL/Stock-Market-Sentiment-Analysis\n",
        "\n",
        "# Change directory to your repository.\n",
        "%cd Stock-Market-Sentiment-Analysis\n"
      ],
      "metadata": {
        "colab": {
          "base_uri": "https://localhost:8080/"
        },
        "id": "q_SyRHqMXB-u",
        "outputId": "f4a64598-0b2e-4b77-888f-e8ecf691ea62"
      },
      "execution_count": 39,
      "outputs": [
        {
          "output_type": "stream",
          "name": "stdout",
          "text": [
            "Cloning into 'Stock-Market-Sentiment-Analysis'...\n",
            "remote: Enumerating objects: 3, done.\u001b[K\n",
            "remote: Counting objects: 100% (3/3), done.\u001b[K\n",
            "remote: Compressing objects: 100% (2/2), done.\u001b[K\n",
            "remote: Total 3 (delta 0), reused 0 (delta 0), pack-reused 0\u001b[K\n",
            "Receiving objects: 100% (3/3), done.\n",
            "/content/Stock-Market-Sentiment-Analysis/Stock-Market-Sentiment-Analysis/Stock-Market-Sentiment-Analysis/Stock-Market-Sentiment-Analysis\n"
          ]
        }
      ]
    },
    {
      "cell_type": "code",
      "source": [],
      "metadata": {
        "id": "uc7IggqOZvRf"
      },
      "execution_count": null,
      "outputs": []
    }
  ]
}